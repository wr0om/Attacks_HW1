{
 "cells": [
  {
   "cell_type": "code",
   "execution_count": null,
   "metadata": {},
   "outputs": [],
   "source": []
  },
  {
   "cell_type": "code",
   "execution_count": 9,
   "metadata": {},
   "outputs": [
    {
     "name": "stdout",
     "output_type": "stream",
     "text": [
      "tmux new-session -d -s UPGD_Standard 'python run_attack.py --model_name Standard --attack UPGD --n_iter 10 --n_examples 10000 --batch_size=256 --save_results'\n",
      "tmux new-session -d -s UPGD_Wong2020Fast 'python run_attack.py --model_name Wong2020Fast --attack UPGD --n_iter 10 --n_examples 10000 --batch_size=256 --save_results'\n",
      "tmux new-session -d -s UPGD_Wang2023Better_WRN-28-10 'python run_attack.py --model_name Wang2023Better_WRN-28-10 --attack UPGD --n_iter 10 --n_examples 10000 --batch_size=256 --save_results'\n",
      "tmux new-session -d -s FourierUPGD_Standard 'python run_attack.py --model_name Standard --attack FourierUPGD --n_iter 10 --n_examples 10000 --batch_size=256 --save_results'\n",
      "tmux new-session -d -s FourierUPGD_Wong2020Fast 'python run_attack.py --model_name Wong2020Fast --attack FourierUPGD --n_iter 10 --n_examples 10000 --batch_size=256 --save_results'\n",
      "tmux new-session -d -s FourierUPGD_Wang2023Better_WRN-28-10 'python run_attack.py --model_name Wang2023Better_WRN-28-10 --attack FourierUPGD --n_iter 10 --n_examples 10000 --batch_size=256 --save_results'\n"
     ]
    }
   ],
   "source": [
    "# Define parameters\n",
    "attacks = [\"UPGD\", \"FourierUPGD\"]#, \"StochasticUPGD\"]\n",
    "models = [\"Standard\", \"Wong2020Fast\", \"Wang2023Better_WRN-28-10\"]\n",
    "n_examples = 10000\n",
    "n_iter = 10\n",
    "batch_size = 256\n",
    "\n",
    "# Loop through attacks and models\n",
    "for attack in attacks:\n",
    "    for model in models:\n",
    "        session_name = f\"{attack}_{model}\"\n",
    "        command = (\n",
    "            f\"python run_attack.py --model_name {model} --attack {attack} \"\n",
    "            f\"--n_iter {n_iter} --n_examples {n_examples} \"\n",
    "            f\"--batch_size={batch_size} --save_results\"\n",
    "        )\n",
    "        tmux_command = (\n",
    "            f\"tmux new-session -d -s {session_name} \"\n",
    "            f\"'{command}'\"\n",
    "        )\n",
    "        print(tmux_command)\n",
    "\n",
    "\n",
    "# python run_attack.py --model_name Standard --attack FourierUPGD --save_results --n_iter 100 --n_examples 10000 --batch_size=128\n",
    "# python run_attack.py --model_name Wong2020Fast --attack FourierUPGD --save_results --n_iter 100 --n_examples 10000 --batch_size=128\n",
    "# python run_attack.py --model_name Wang2023Better_WRN-28-10 --attack FourierUPGD --save_results --n_iter 100 --n_examples 10000 --batch_size=128"
   ]
  }
 ],
 "metadata": {
  "kernelspec": {
   "display_name": "cs236207",
   "language": "python",
   "name": "python3"
  },
  "language_info": {
   "codemirror_mode": {
    "name": "ipython",
    "version": 3
   },
   "file_extension": ".py",
   "mimetype": "text/x-python",
   "name": "python",
   "nbconvert_exporter": "python",
   "pygments_lexer": "ipython3",
   "version": "3.11.11"
  }
 },
 "nbformat": 4,
 "nbformat_minor": 2
}
